{
 "cells": [
  {
   "cell_type": "code",
   "execution_count": 6,
   "id": "652cb79a-ae1c-4378-aded-13839570dea9",
   "metadata": {},
   "outputs": [
    {
     "name": "stdin",
     "output_type": "stream",
     "text": [
      "Enter a sentence to get an emoji (or type 'exit' to quit):  iam happy\n"
     ]
    },
    {
     "name": "stdout",
     "output_type": "stream",
     "text": [
      "Predicted Emoji: 😊\n"
     ]
    },
    {
     "name": "stdin",
     "output_type": "stream",
     "text": [
      "Enter a sentence to get an emoji (or type 'exit' to quit):  iam sad\n"
     ]
    },
    {
     "name": "stdout",
     "output_type": "stream",
     "text": [
      "Predicted Emoji: 😢\n"
     ]
    },
    {
     "name": "stdin",
     "output_type": "stream",
     "text": [
      "Enter a sentence to get an emoji (or type 'exit' to quit):  i hate u\n"
     ]
    },
    {
     "name": "stdout",
     "output_type": "stream",
     "text": [
      "Predicted Emoji: 😡\n"
     ]
    },
    {
     "name": "stdin",
     "output_type": "stream",
     "text": [
      "Enter a sentence to get an emoji (or type 'exit' to quit):  i dont like u\n"
     ]
    },
    {
     "name": "stdout",
     "output_type": "stream",
     "text": [
      "Predicted Emoji: 😴\n"
     ]
    },
    {
     "name": "stdin",
     "output_type": "stream",
     "text": [
      "Enter a sentence to get an emoji (or type 'exit' to quit):  exit\n"
     ]
    },
    {
     "name": "stdout",
     "output_type": "stream",
     "text": [
      "Hope u enjoyed! 💖\n"
     ]
    }
   ],
   "source": [
    "import pandas as pd\n",
    "from sklearn.feature_extraction.text import TfidfVectorizer\n",
    "from sklearn.linear_model import LogisticRegression\n",
    "\n",
    "# Better dataset with multiple emotions & balanced samples\n",
    "data = {\n",
    "    'text': [\n",
    "        \"I am very happy\", \"Feeling awesome today\", \"I love my life\", \"What a joyful day\",\n",
    "        \"This sucks\", \"I hate this\", \"Why is everything so annoying\", \"I’m so mad\",\n",
    "        \"I feel sleepy\", \"Tired and lazy\", \"Don't want to do anything\", \"Need more sleep\",\n",
    "        \"I’m sad\", \"Feeling down\", \"Life is hard\", \"Crying all day\",\n",
    "        \"Let’s go party!\", \"Best day ever!\", \"So much fun\", \"Turn up the music\",\n",
    "        \"Got a puppy!\", \"Look at this dog\", \"Dogs are so cute\", \"My puppy is adorable\"\n",
    "    ],\n",
    "    'emoji': [\n",
    "        \"😊\", \"😊\", \"😊\", \"😊\",\n",
    "        \"😡\", \"😡\", \"😡\", \"😡\",\n",
    "        \"😴\", \"😴\", \"😴\", \"😴\",\n",
    "        \"😢\", \"😢\", \"😢\", \"😢\",\n",
    "        \"🎉\", \"🎉\", \"🎉\", \"🎉\",\n",
    "        \"🐶\", \"🐶\", \"🐶\", \"🐶\"\n",
    "    ]\n",
    "}\n",
    "\n",
    "df = pd.DataFrame(data)\n",
    "\n",
    "# Preprocess: lowercase text\n",
    "df['text'] = df['text'].str.lower()\n",
    "\n",
    "# TF-IDF vectorizer\n",
    "vectorizer = TfidfVectorizer()\n",
    "X = vectorizer.fit_transform(df['text'])\n",
    "\n",
    "# Train the model\n",
    "model = LogisticRegression()\n",
    "model.fit(X, df['emoji'])\n",
    "\n",
    "# Predict function\n",
    "def predict_emoji(sentence):\n",
    "    sentence = sentence.lower()  # Preprocess input\n",
    "    vec = vectorizer.transform([sentence])\n",
    "    return model.predict(vec)[0]\n",
    "\n",
    "# Dynamic input loop\n",
    "while True:\n",
    "    user_input = input(\"Enter a sentence to get an emoji (or type 'exit' to quit): \")\n",
    "    if user_input.lower() == 'exit':\n",
    "        print(\"Hope u enjoyed! 💖\")\n",
    "        break\n",
    "    emoji = predict_emoji(user_input)\n",
    "    print(\"Predicted Emoji:\", emoji)\n"
   ]
  },
  {
   "cell_type": "code",
   "execution_count": null,
   "id": "b00a56fb-70c1-4579-a263-86b2df3b5897",
   "metadata": {},
   "outputs": [],
   "source": []
  }
 ],
 "metadata": {
  "kernelspec": {
   "display_name": "anaconda-panel-2023.05-py310",
   "language": "python",
   "name": "conda-env-anaconda-panel-2023.05-py310-py"
  },
  "language_info": {
   "codemirror_mode": {
    "name": "ipython",
    "version": 3
   },
   "file_extension": ".py",
   "mimetype": "text/x-python",
   "name": "python",
   "nbconvert_exporter": "python",
   "pygments_lexer": "ipython3",
   "version": "3.11.5"
  }
 },
 "nbformat": 4,
 "nbformat_minor": 5
}
